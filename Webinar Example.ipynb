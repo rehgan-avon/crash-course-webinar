{
 "cells": [
  {
   "cell_type": "code",
   "execution_count": null,
   "id": "stylish-proof",
   "metadata": {},
   "outputs": [],
   "source": [
    "import requests\n",
    "import pygsheets\n",
    "import pandas as pd"
   ]
  },
  {
   "cell_type": "code",
   "execution_count": null,
   "id": "hidden-prediction",
   "metadata": {},
   "outputs": [],
   "source": [
    "table_name = \"My Table\"\n",
    "url = \"https://api.airtable.com/v0/\" + BASE_ID + \"/\" + TABLE_NAME\n",
    "params = {\"maxRecords\" : 50}\n",
    "headers = {\"Authorization\": \"Bearer \" + MY_API_KEY}"
   ]
  },
  {
   "cell_type": "code",
   "execution_count": null,
   "id": "logical-selling",
   "metadata": {},
   "outputs": [],
   "source": [
    "response = requests.get(url, params=params, headers=headers)"
   ]
  },
  {
   "cell_type": "code",
   "execution_count": null,
   "id": "otherwise-despite",
   "metadata": {},
   "outputs": [],
   "source": [
    "output = response.json()\n",
    "records = output['records']"
   ]
  },
  {
   "cell_type": "code",
   "execution_count": null,
   "id": "russian-programming",
   "metadata": {},
   "outputs": [],
   "source": [
    "records[0]"
   ]
  },
  {
   "cell_type": "code",
   "execution_count": null,
   "id": "editorial-essex",
   "metadata": {},
   "outputs": [],
   "source": [
    "records\n",
    "airtable_rows = [] \n",
    "airtable_index = []\n",
    "for record in records:\n",
    "    airtable_rows.append(record['fields'])\n",
    "    airtable_index.append(record['id'])\n",
    "data = pd.DataFrame(airtable_rows, index=airtable_index)"
   ]
  },
  {
   "cell_type": "code",
   "execution_count": null,
   "id": "severe-briefs",
   "metadata": {},
   "outputs": [],
   "source": [
    "data = data.fillna(0)\n",
    "data"
   ]
  },
  {
   "cell_type": "code",
   "execution_count": null,
   "id": "opened-cisco",
   "metadata": {},
   "outputs": [],
   "source": [
    "#authorization\n",
    "gc = pygsheets.authorize(service_file=AUTH_FILE)\n",
    "\n",
    "#open the google spreadsheet\n",
    "sh = gc.open_by_key(SHEET_KEY)\n",
    "\n",
    "#select the first sheet \n",
    "wks = sh[0]\n",
    "\n",
    "#update the first sheet with df, starting at cell B2. \n",
    "wks.set_dataframe(data,(1,1))"
   ]
  },
  {
   "cell_type": "code",
   "execution_count": null,
   "id": "ignored-consistency",
   "metadata": {},
   "outputs": [],
   "source": []
  }
 ],
 "metadata": {
  "kernelspec": {
   "display_name": "Python 3",
   "language": "python",
   "name": "python3"
  },
  "language_info": {
   "codemirror_mode": {
    "name": "ipython",
    "version": 3
   },
   "file_extension": ".py",
   "mimetype": "text/x-python",
   "name": "python",
   "nbconvert_exporter": "python",
   "pygments_lexer": "ipython3",
   "version": "3.6.4"
  }
 },
 "nbformat": 4,
 "nbformat_minor": 5
}
